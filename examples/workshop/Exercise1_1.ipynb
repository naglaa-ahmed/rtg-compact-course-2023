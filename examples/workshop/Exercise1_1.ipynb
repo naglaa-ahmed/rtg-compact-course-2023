{
  "cells": [
    {
      "cell_type": "markdown",
      "metadata": {
        "id": "ZhaTPKx-2yXb"
      },
      "source": [
        "### Exercise Sheet 1\n",
        "\n",
        "#### 1.1 PyTorch Tensor Indexing\n",
        "Here you can find a small overview and explanation of the tensor syntax."
      ]
    },
    {
      "cell_type": "code",
      "execution_count": null,
      "metadata": {
        "id": "I-miKoVA2yXd"
      },
      "outputs": [],
      "source": [
        "import torch"
      ]
    },
    {
      "cell_type": "markdown",
      "metadata": {
        "id": "DFjd553b2yXd"
      },
      "source": [
        "A PyTorch-tensor can easily created given a Python list. Nested lists yield higher dimensional objects:"
      ]
    },
    {
      "cell_type": "code",
      "execution_count": null,
      "metadata": {
        "id": "yk8OBtlj2yXe",
        "outputId": "bd5abec5-4532-49ef-b1a6-0f365dd2aa98"
      },
      "outputs": [
        {
          "name": "stdout",
          "output_type": "stream",
          "text": [
            "Example for a vector: tensor([1, 2, 3])\n",
            "Example for a matrix: \n",
            " tensor([[1, 2],\n",
            "        [0, 7]])\n"
          ]
        }
      ],
      "source": [
        "tensor_1 = torch.tensor([1, 2, 3]) # a vector with 3 entries\n",
        "tensor_2 = torch.tensor([[1, 2], [0, 7]]) # a 2x2 matrix\n",
        "print(\"Example for a vector:\", tensor_1)\n",
        "print(\"Example for a matrix: \\n\", tensor_2)"
      ]
    },
    {
      "cell_type": "markdown",
      "metadata": {
        "id": "MxjykZJP2yXe"
      },
      "source": [
        "Instead of creating larger tensors per hand, the constructors `torch.zeros` and `torch.ones` can create tensor of a given size:"
      ]
    },
    {
      "cell_type": "code",
      "execution_count": null,
      "metadata": {
        "id": "LNn9GamE2yXe",
        "outputId": "bbf04fd8-cd06-42d9-b93a-f37a41563353"
      },
      "outputs": [
        {
          "name": "stdout",
          "output_type": "stream",
          "text": [
            "Example for a vector: tensor([0., 0., 0.])\n",
            "Example for a matrix: \n",
            " tensor([[1., 1.],\n",
            "        [1., 1.]])\n"
          ]
        }
      ],
      "source": [
        "tensor_zeros = torch.zeros(3) #  # a vector with 3 zero entries\n",
        "tensor_ones = torch.ones((2, 2)) # a 2x2 matrix with ones\n",
        "print(\"Example for a vector:\", tensor_zeros)\n",
        "print(\"Example for a matrix: \\n\", tensor_ones)"
      ]
    },
    {
      "cell_type": "markdown",
      "metadata": {
        "id": "bPftbxEU2yXf"
      },
      "source": [
        "Also tensors with more than two dimensions can be created. This will be important later, when we generally use the first dimension as the size of data batches and the later dimensions for problem specific data.\n",
        "\n",
        "With `tensor.shape` we can see the size of a tensor and how many entries each dimension contains.\n",
        "\n",
        "With `tensor[index_values]` one can view and modify the entries of the tensor. Here, the *index_values* have to be smaller than the size of each dimension-1, since we start counting at index 0."
      ]
    },
    {
      "cell_type": "code",
      "execution_count": 28,
      "metadata": {
        "id": "KQaocAXo2yXf",
        "outputId": "71e84ca8-9604-4d02-b0d4-a94684d6005a",
        "colab": {
          "base_uri": "https://localhost:8080/"
        }
      },
      "outputs": [
        {
          "output_type": "stream",
          "name": "stdout",
          "text": [
            "Check shape of tensor: torch.Size([3, 2, 2])\n",
            "Check top left entry of the first 'matrix': tensor(0.)\n",
            "Check new top left entry of the first 'matrix': tensor(1.)\n",
            "Change more values\n",
            "tensor([[[1., 2.],\n",
            "         [0., 0.]],\n",
            "\n",
            "        [[0., 0.],\n",
            "         [0., 0.]],\n",
            "\n",
            "        [[0., 0.],\n",
            "         [5., 0.]]])\n",
            "Indexing also works with boolean values:\n",
            "tensor([[[1., 2.],\n",
            "         [0., 0.]],\n",
            "\n",
            "        [[0., 0.],\n",
            "         [5., 0.]]])\n",
            "This returned the first and last element of the first axis!\n"
          ]
        }
      ],
      "source": [
        "test_tensor = torch.zeros((3, 2, 2)) # could be interpreted as three 2x2 matrices\n",
        "# Of course, more complex tensors could be created, but we use here only this simple example.\n",
        "\n",
        "print(\"Check shape of tensor:\", test_tensor.shape)\n",
        "\n",
        "print(\"Check top left entry of the first 'matrix':\", test_tensor[0, 0, 0])\n",
        "test_tensor[0, 0, 0] = 1.0\n",
        "print(\"Check new top left entry of the first 'matrix':\", test_tensor[0, 0, 0])\n",
        "print(\"Change more values\")\n",
        "test_tensor[0, 0, 1] = 2.0\n",
        "test_tensor[2, 1, 0] = 5.0\n",
        "print(test_tensor)\n",
        "\n",
        "print(\"Indexing also works with boolean values:\")\n",
        "print(test_tensor[[True, False, True]])\n",
        "print(\"This returned the first and last element of the first axis!\")"
      ]
    },
    {
      "cell_type": "markdown",
      "metadata": {
        "id": "KDkOLgAY2yXf"
      },
      "source": [
        "Trying `test_tensor[3, 0, 0]` would throw an IndexError! Even if our first dimension has size 3, the index only runs from 0 to 2."
      ]
    },
    {
      "cell_type": "markdown",
      "metadata": {
        "id": "doLnGAGD2yXf"
      },
      "source": [
        "Instead fo setting the value of entry by hand, we can utlize Python’s indexing and slicing notation `:`.\n",
        "\n",
        "Using `:` as an index at one position inside `[]` will do the assignment for all entries in the corresponding dimension."
      ]
    },
    {
      "cell_type": "code",
      "execution_count": null,
      "metadata": {
        "id": "wQymGymC2yXo",
        "outputId": "8807d805-513e-483a-fa9e-f963b371fd40"
      },
      "outputs": [
        {
          "name": "stdout",
          "output_type": "stream",
          "text": [
            "Top left is 2:\n",
            "tensor([[[2., 2.],\n",
            "         [0., 0.]],\n",
            "\n",
            "        [[2., 0.],\n",
            "         [0., 0.]],\n",
            "\n",
            "        [[2., 0.],\n",
            "         [5., 0.]]])\n",
            "Bottom row has 3:\n",
            "tensor([[[2., 2.],\n",
            "         [3., 3.]],\n",
            "\n",
            "        [[2., 0.],\n",
            "         [3., 3.]],\n",
            "\n",
            "        [[2., 0.],\n",
            "         [3., 3.]]])\n"
          ]
        }
      ],
      "source": [
        "test_tensor[:, 0, 0] = 2 # set the top left entry of every 'matrix' to 2\n",
        "print(\"Top left is 2:\")\n",
        "print(test_tensor)\n",
        "\n",
        "# they can also be combined:\n",
        "test_tensor[:, 1, :] = 3 # set all values in the bottom row of every 'matrix' to 3\n",
        "print(\"Bottom row has 3:\")\n",
        "print(test_tensor)"
      ]
    },
    {
      "cell_type": "markdown",
      "metadata": {
        "id": "QjEVdVQ_2yXo"
      },
      "source": [
        "Slicing is even more powerful. It works also with inplace math operations, assignment of tensor values (as long both sides have a **compatible shape**). And instead of running over all values, one can also start at value `k` with `k:` or only go to the value just before `k` with `:k`."
      ]
    },
    {
      "cell_type": "code",
      "execution_count": null,
      "metadata": {
        "id": "8aBmsDvM2yXo",
        "outputId": "9617347d-66d4-4ca7-be9f-e633a2ec26e1"
      },
      "outputs": [
        {
          "name": "stdout",
          "output_type": "stream",
          "text": [
            "Top left is now:\n",
            "tensor([[[3., 2.],\n",
            "         [3., 3.]],\n",
            "\n",
            "        [[3., 0.],\n",
            "         [3., 3.]],\n",
            "\n",
            "        [[3., 0.],\n",
            "         [3., 3.]]])\n",
            "new values: tensor([1., 2., 3.])\n",
            "Top right is now:\n",
            "tensor([[[3., 1.],\n",
            "         [3., 3.]],\n",
            "\n",
            "        [[3., 2.],\n",
            "         [3., 3.]],\n",
            "\n",
            "        [[3., 3.],\n",
            "         [3., 3.]]])\n",
            "Only change first two matrices:\n",
            "tensor([[[-3., -1.],\n",
            "         [ 3.,  3.]],\n",
            "\n",
            "        [[-3., -2.],\n",
            "         [ 3.,  3.]],\n",
            "\n",
            "        [[ 3.,  3.],\n",
            "         [ 3.,  3.]]])\n"
          ]
        }
      ],
      "source": [
        "test_tensor[:, 0, 0] += 1 # add 1 to the top left entry of every 'matrix'\n",
        "print(\"Top left is now:\")\n",
        "print(test_tensor)\n",
        "\n",
        "new_values = torch.linspace(1, 3, 3) # three equdistant points between 1 and 3\n",
        "print(\"new values:\", new_values)\n",
        "test_tensor[:, 0, 1] = new_values # change top right values\n",
        "print(\"Top right is now:\")\n",
        "print(test_tensor)\n",
        "\n",
        "print(\"Only change first two matrices:\")\n",
        "test_tensor[:2, 0, :] *= -1\n",
        "print(test_tensor)"
      ]
    },
    {
      "cell_type": "markdown",
      "metadata": {
        "id": "YeZshi7N2yXo"
      },
      "source": [
        "Lastly, slicing can also be used to extract a smaller *sub-tensor* that keeps the shape of the original one:"
      ]
    },
    {
      "cell_type": "code",
      "execution_count": null,
      "metadata": {
        "id": "-jh7erdv2yXp",
        "outputId": "66dfd7cc-5724-4891-cef8-df1343c69384"
      },
      "outputs": [
        {
          "name": "stdout",
          "output_type": "stream",
          "text": [
            "torch.Size([2, 2]) torch.Size([1, 2, 2])\n",
            "The shape is different! In the first case we lost the first dimension.\n"
          ]
        }
      ],
      "source": [
        "tensor_sub_1 = test_tensor[0] # returns the first 'matrix'\n",
        "tensor_sub_2 = test_tensor[:1] # returns also the first 'matrix'\n",
        "# But:\n",
        "print(tensor_sub_1.shape, tensor_sub_2.shape)\n",
        "print(\"The shape is different! In the first case we lost the first dimension.\")"
      ]
    },
    {
      "cell_type": "markdown",
      "metadata": {
        "id": "UNxkMmv02yXp"
      },
      "source": [
        "Math operations can also be used between different tensors (generally they need to be of **similar shape** for this to work). If they have the same shape, most operations work entrywise:"
      ]
    },
    {
      "cell_type": "code",
      "execution_count": null,
      "metadata": {
        "id": "usUD-ly62yXp",
        "outputId": "d228a026-8659-46d4-b983-2f396dfb4dd1"
      },
      "outputs": [
        {
          "name": "stdout",
          "output_type": "stream",
          "text": [
            "Add: tensor([3.0000, 2.1000, 8.0000])\n",
            "Multiply: tensor([ 2.0000,  0.2000, 15.0000])\n",
            "Divide: tensor([ 0.5000, 20.0000,  0.6000])\n",
            "Works also with scalar values\n",
            "Add: tensor([4., 5., 6.])\n",
            "Multiply: tensor([2.5000, 5.0000, 7.5000])\n"
          ]
        }
      ],
      "source": [
        "tensor_1 = torch.tensor([1, 2, 3])\n",
        "tensor_2 = torch.tensor([2, 0.1, 5])\n",
        "print(\"Add:\", tensor_1 + tensor_2)\n",
        "print(\"Multiply:\", tensor_1 * tensor_2)\n",
        "print(\"Divide:\", tensor_1 / tensor_2)\n",
        "print(\"Works also with scalar values\")\n",
        "print(\"Add:\", 3.0 + tensor_1)\n",
        "print(\"Multiply:\", 2.5 * tensor_1)"
      ]
    },
    {
      "cell_type": "markdown",
      "metadata": {
        "id": "T0vI_qPT2yXp"
      },
      "source": [
        "With `reshape` one can transform a given tensor into a different shape. For this to work, both starting and final shape need to store the same number elements."
      ]
    },
    {
      "cell_type": "code",
      "execution_count": null,
      "metadata": {
        "id": "V5kpqY972yXp",
        "outputId": "ed57c39c-6c0c-4602-a75d-029f113855e4"
      },
      "outputs": [
        {
          "name": "stdout",
          "output_type": "stream",
          "text": [
            "Start with a matrix:\n",
            "tensor([[1, 2],\n",
            "        [0, 5]])\n",
            ".reshape(4) gives:\n",
            "tensor([1, 2, 0, 5])\n",
            "\n",
            "Works also on batches (multidimensional data)\n",
            "tensor([[[-3., -1.],\n",
            "         [ 3.,  3.]],\n",
            "\n",
            "        [[-3., -2.],\n",
            "         [ 3.,  3.]],\n",
            "\n",
            "        [[ 3.,  3.],\n",
            "         [ 3.,  3.]]])\n",
            "Now a batch of 4 dim. vectors:\n",
            "tensor([[-3., -1.,  3.,  3.],\n",
            "        [-3., -2.,  3.,  3.],\n",
            "        [ 3.,  3.,  3.,  3.]])\n"
          ]
        }
      ],
      "source": [
        "tensor_1 = torch.tensor([[1, 2], [0, 5]])\n",
        "# transform 2x2 matrix to 4 dim. vector:\n",
        "print(\"Start with a matrix:\")\n",
        "print(tensor_1)\n",
        "print(\".reshape(4) gives:\")\n",
        "print(tensor_1.reshape(4))\n",
        "\n",
        "print(\"\\nWorks also on batches (multidimensional data)\")\n",
        "print(test_tensor)\n",
        "print(\"Now a batch of 4 dim. vectors:\")\n",
        "print(test_tensor.reshape(3, 4))"
      ]
    },
    {
      "cell_type": "markdown",
      "metadata": {
        "id": "3E8f9dQt2yXp"
      },
      "source": [
        "With `.to` the tensors can be moved to different devices (e.g. to a GPU with `.to(\"cuda\")` and to the CPU with `.to(\"CPU\")`). For operations between two tensors, both have to be on the same device."
      ]
    },
    {
      "cell_type": "markdown",
      "metadata": {
        "id": "pGQbg9V-2yXp"
      },
      "source": [
        "This is ends our small overview. There are many more properites and functions, but the above syntax is enough for the following tasks.\n",
        "\n",
        "For more informations one can always check the offical [PyTorch documentation](https://pytorch.org/docs/stable/tensors.html)."
      ]
    },
    {
      "cell_type": "code",
      "source": [
        "import torch\n",
        "t = torch.tensor([[[0,1],[4,2],[8,1]],[[4,7],[5,3],[1,1]]])"
      ],
      "metadata": {
        "id": "exCxudiy33hc"
      },
      "execution_count": 2,
      "outputs": []
    },
    {
      "cell_type": "code",
      "source": [
        "t.shape"
      ],
      "metadata": {
        "id": "Kf2Ubo8X4ljG",
        "outputId": "b57c6c47-a226-464b-9fe3-054dfa73d09c",
        "colab": {
          "base_uri": "https://localhost:8080/"
        }
      },
      "execution_count": 3,
      "outputs": [
        {
          "output_type": "execute_result",
          "data": {
            "text/plain": [
              "torch.Size([2, 3, 2])"
            ]
          },
          "metadata": {},
          "execution_count": 3
        }
      ]
    },
    {
      "cell_type": "code",
      "source": [
        "t[0]\n",
        "\n",
        "t[0].shape"
      ],
      "metadata": {
        "id": "3Pd-RFav4yHc",
        "outputId": "b18aaba5-ef13-4a72-c9b5-a35bc8cd961f",
        "colab": {
          "base_uri": "https://localhost:8080/"
        }
      },
      "execution_count": 5,
      "outputs": [
        {
          "output_type": "execute_result",
          "data": {
            "text/plain": [
              "torch.Size([3, 2])"
            ]
          },
          "metadata": {},
          "execution_count": 5
        }
      ]
    },
    {
      "cell_type": "code",
      "source": [
        "t[[True, False]]"
      ],
      "metadata": {
        "id": "dajynFo_48Ai",
        "outputId": "fec19ef5-d4f6-494a-8e25-e138e0c441be",
        "colab": {
          "base_uri": "https://localhost:8080/"
        }
      },
      "execution_count": 8,
      "outputs": [
        {
          "output_type": "execute_result",
          "data": {
            "text/plain": [
              "tensor([[[0, 1],\n",
              "         [4, 2],\n",
              "         [8, 1]]])"
            ]
          },
          "metadata": {},
          "execution_count": 8
        }
      ]
    },
    {
      "cell_type": "code",
      "source": [
        "t[1,2,0]"
      ],
      "metadata": {
        "id": "yfoEYCNt5ibc",
        "outputId": "c5072efc-a53d-40d1-c04d-9a7109631479",
        "colab": {
          "base_uri": "https://localhost:8080/"
        }
      },
      "execution_count": 9,
      "outputs": [
        {
          "output_type": "execute_result",
          "data": {
            "text/plain": [
              "tensor(1)"
            ]
          },
          "metadata": {},
          "execution_count": 9
        }
      ]
    },
    {
      "cell_type": "code",
      "source": [
        "t[:1]"
      ],
      "metadata": {
        "id": "k6DM7EHl5vDX",
        "outputId": "25be39f7-50cc-483c-f156-3c4d107465ff",
        "colab": {
          "base_uri": "https://localhost:8080/"
        }
      },
      "execution_count": 10,
      "outputs": [
        {
          "output_type": "execute_result",
          "data": {
            "text/plain": [
              "tensor([[[0, 1],\n",
              "         [4, 2],\n",
              "         [8, 1]]])"
            ]
          },
          "metadata": {},
          "execution_count": 10
        }
      ]
    },
    {
      "cell_type": "code",
      "source": [
        "t[:1].shape"
      ],
      "metadata": {
        "id": "KCRz9ogY5-Om",
        "outputId": "22827c1b-be0c-4744-bc83-4e6082f2c9b7",
        "colab": {
          "base_uri": "https://localhost:8080/"
        }
      },
      "execution_count": 11,
      "outputs": [
        {
          "output_type": "execute_result",
          "data": {
            "text/plain": [
              "torch.Size([1, 3, 2])"
            ]
          },
          "metadata": {},
          "execution_count": 11
        }
      ]
    },
    {
      "cell_type": "code",
      "source": [
        "t.reshape(2,6)"
      ],
      "metadata": {
        "id": "U6iuyfFb6IIa",
        "outputId": "628b0362-3c9a-48a3-da07-26299a32e767",
        "colab": {
          "base_uri": "https://localhost:8080/"
        }
      },
      "execution_count": 12,
      "outputs": [
        {
          "output_type": "execute_result",
          "data": {
            "text/plain": [
              "tensor([[0, 1, 4, 2, 8, 1],\n",
              "        [4, 7, 5, 3, 1, 1]])"
            ]
          },
          "metadata": {},
          "execution_count": 12
        }
      ]
    },
    {
      "cell_type": "code",
      "source": [
        "t[1,3,0]"
      ],
      "metadata": {
        "id": "h_8vXxwr6Z9G",
        "outputId": "a8d82cdb-e729-4594-920b-190af8f0c3ef",
        "colab": {
          "base_uri": "https://localhost:8080/",
          "height": 166
        }
      },
      "execution_count": 13,
      "outputs": [
        {
          "output_type": "error",
          "ename": "IndexError",
          "evalue": "ignored",
          "traceback": [
            "\u001b[0;31m---------------------------------------------------------------------------\u001b[0m",
            "\u001b[0;31mIndexError\u001b[0m                                Traceback (most recent call last)",
            "\u001b[0;32m<ipython-input-13-60db744a1d1f>\u001b[0m in \u001b[0;36m<cell line: 1>\u001b[0;34m()\u001b[0m\n\u001b[0;32m----> 1\u001b[0;31m \u001b[0mt\u001b[0m\u001b[0;34m[\u001b[0m\u001b[0;36m1\u001b[0m\u001b[0;34m,\u001b[0m\u001b[0;36m3\u001b[0m\u001b[0;34m,\u001b[0m\u001b[0;36m0\u001b[0m\u001b[0;34m]\u001b[0m\u001b[0;34m\u001b[0m\u001b[0;34m\u001b[0m\u001b[0m\n\u001b[0m",
            "\u001b[0;31mIndexError\u001b[0m: index 3 is out of bounds for dimension 1 with size 3"
          ]
        }
      ]
    },
    {
      "cell_type": "code",
      "source": [
        "t[:1,:1,:]"
      ],
      "metadata": {
        "id": "RE37NZOJ6sFs",
        "outputId": "dc1cf131-95d1-47b6-9fba-419c300dddc8",
        "colab": {
          "base_uri": "https://localhost:8080/"
        }
      },
      "execution_count": 14,
      "outputs": [
        {
          "output_type": "execute_result",
          "data": {
            "text/plain": [
              "tensor([[[0, 1]]])"
            ]
          },
          "metadata": {},
          "execution_count": 14
        }
      ]
    },
    {
      "cell_type": "code",
      "source": [
        "t[:1,:1,:].shape"
      ],
      "metadata": {
        "id": "Yddn0E0062pZ",
        "outputId": "c8ffc5b3-86dc-4be2-c15d-f1af991cd834",
        "colab": {
          "base_uri": "https://localhost:8080/"
        }
      },
      "execution_count": 15,
      "outputs": [
        {
          "output_type": "execute_result",
          "data": {
            "text/plain": [
              "torch.Size([1, 1, 2])"
            ]
          },
          "metadata": {},
          "execution_count": 15
        }
      ]
    },
    {
      "cell_type": "code",
      "source": [
        "print(t)"
      ],
      "metadata": {
        "id": "-6t38SzO8mH_",
        "outputId": "3849b0b6-41ab-4b31-8277-0890de9f8532",
        "colab": {
          "base_uri": "https://localhost:8080/"
        }
      },
      "execution_count": 17,
      "outputs": [
        {
          "output_type": "stream",
          "name": "stdout",
          "text": [
            "tensor([[[0, 1],\n",
            "         [4, 2],\n",
            "         [8, 1]],\n",
            "\n",
            "        [[4, 7],\n",
            "         [5, 3],\n",
            "         [1, 1]]])\n"
          ]
        }
      ]
    },
    {
      "cell_type": "code",
      "source": [
        "t[1,2,0] = 6"
      ],
      "metadata": {
        "id": "7L9OB6GT8sLu"
      },
      "execution_count": 18,
      "outputs": []
    },
    {
      "cell_type": "code",
      "source": [
        "print(t)"
      ],
      "metadata": {
        "id": "rywBpBWm8x2X",
        "outputId": "f7e628ec-4334-4434-dbce-5669e8b82591",
        "colab": {
          "base_uri": "https://localhost:8080/"
        }
      },
      "execution_count": 19,
      "outputs": [
        {
          "output_type": "stream",
          "name": "stdout",
          "text": [
            "tensor([[[0, 1],\n",
            "         [4, 2],\n",
            "         [8, 1]],\n",
            "\n",
            "        [[4, 7],\n",
            "         [5, 3],\n",
            "         [6, 1]]])\n"
          ]
        }
      ]
    },
    {
      "cell_type": "code",
      "source": [
        "import torch\n",
        "t = torch.tensor([[[0,1],[4,2],[8,1]],[[4,7],[5,3],[1,1]]])\n",
        "t[1,:,0] *= 2\n",
        "print(t)\n"
      ],
      "metadata": {
        "id": "LRRNw9AF8zsV",
        "outputId": "5f7cd52a-766d-474c-bf64-fe7850423757",
        "colab": {
          "base_uri": "https://localhost:8080/"
        }
      },
      "execution_count": 24,
      "outputs": [
        {
          "output_type": "stream",
          "name": "stdout",
          "text": [
            "tensor([[[ 0,  1],\n",
            "         [ 4,  2],\n",
            "         [ 8,  1]],\n",
            "\n",
            "        [[ 8,  7],\n",
            "         [10,  3],\n",
            "         [ 2,  1]]])\n"
          ]
        }
      ]
    },
    {
      "cell_type": "code",
      "source": [
        "t[1,2:,0]=6\n",
        "print(t)\n"
      ],
      "metadata": {
        "id": "DGbJYpZT_D1S",
        "outputId": "145daf1b-a836-48ba-c3d9-f0645dc7f834",
        "colab": {
          "base_uri": "https://localhost:8080/"
        }
      },
      "execution_count": 26,
      "outputs": [
        {
          "output_type": "stream",
          "name": "stdout",
          "text": [
            "tensor([[[ 0,  1],\n",
            "         [ 4,  2],\n",
            "         [ 8,  1]],\n",
            "\n",
            "        [[ 8,  7],\n",
            "         [10,  3],\n",
            "         [ 6,  1]]])\n"
          ]
        }
      ]
    },
    {
      "cell_type": "code",
      "source": [
        "import torch\n",
        "t = torch.tensor([[[0,1],[4,2],[8,1]],[[4,7],[5,3],[1,1]]])\n",
        "\n",
        "t[1,-1,0]+=6\n",
        "\n",
        "print(t)\n"
      ],
      "metadata": {
        "id": "VWeHJZqxAToO",
        "outputId": "3613c2f3-bef5-4e1b-8ff4-083a69284e72",
        "colab": {
          "base_uri": "https://localhost:8080/"
        }
      },
      "execution_count": 27,
      "outputs": [
        {
          "output_type": "stream",
          "name": "stdout",
          "text": [
            "tensor([[[0, 1],\n",
            "         [4, 2],\n",
            "         [8, 1]],\n",
            "\n",
            "        [[4, 7],\n",
            "         [5, 3],\n",
            "         [7, 1]]])\n"
          ]
        }
      ]
    }
  ],
  "metadata": {
    "kernelspec": {
      "display_name": "bosch",
      "language": "python",
      "name": "python3"
    },
    "language_info": {
      "codemirror_mode": {
        "name": "ipython",
        "version": 3
      },
      "file_extension": ".py",
      "mimetype": "text/x-python",
      "name": "python",
      "nbconvert_exporter": "python",
      "pygments_lexer": "ipython3",
      "version": "3.9.15"
    },
    "orig_nbformat": 4,
    "colab": {
      "provenance": []
    }
  },
  "nbformat": 4,
  "nbformat_minor": 0
}